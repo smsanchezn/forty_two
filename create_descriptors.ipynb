{
 "cells": [
  {
   "cell_type": "code",
   "execution_count": null,
   "metadata": {
    "collapsed": true,
    "scrolled": true
   },
   "outputs": [],
   "source": [
    "import numpy as np\n",
    "import pandas as pd\n",
    "from pandas import HDFStore\n",
    "\n",
    "import os\n",
    "\n",
    "import datetime\n",
    "from datetime import datetime\n",
    "\n",
    "from plotly.offline import init_notebook_mode\n",
    "from IPython.display import Image, display\n"
   ]
  },
  {
   "cell_type": "code",
   "execution_count": null,
   "metadata": {
    "collapsed": true
   },
   "outputs": [],
   "source": [
    "init_notebook_mode()\n",
    "%matplotlib inline\n",
    "%load_ext autoreload\n",
    "%autoreload 2"
   ]
  },
  {
   "cell_type": "code",
   "execution_count": 3,
   "metadata": {
    "collapsed": true
   },
   "outputs": [],
   "source": [
    "def load_data(path,condition):\n",
    "    \n",
    "    db = HDFStore(path)\n",
    "    \n",
    "    ev = db.select('events', where = condition)\n",
    "#    gr = db.select('gradients', where = condition)\n",
    "    gr = db.select('details/gradients', where = condition)\n",
    "    de = db.select('details/delays', where = condition)\n",
    "    \n",
    "    db.close()\n",
    "    \n",
    "    return ev, gr, de\n",
    "\n",
    "def print_time():\n",
    "    print(datetime.now().strftime(format='%H:%M:%S'))\n",
    "    return\n",
    "\n",
    "\n",
    "\n",
    "def display_event( plots_dir, ev_id, year ):\n",
    "    \n",
    "    route = os.path.join( plots_dir[year], str(ev_id)+\".png\" )  # Display stored picture\n",
    "    if os.path.exists(route):\n",
    "        display(Image(filename=route))\n",
    "    else:\n",
    "        print \"File not found\", route \n",
    "    return\n"
   ]
  },
  {
   "cell_type": "code",
   "execution_count": 4,
   "metadata": {},
   "outputs": [
    {
     "name": "stderr",
     "output_type": "stream",
     "text": [
      "IOPub data rate exceeded.\n",
      "The notebook server will temporarily stop sending output\n",
      "to the client in order to avoid crashing it.\n",
      "To change this limit, set the config variable\n",
      "`--NotebookApp.iopub_data_rate_limit`.\n"
     ]
    },
    {
     "name": "stdout",
     "output_type": "stream",
     "text": [
      "The autoreload extension is already loaded. To reload it, use:\n",
      "  %reload_ext autoreload\n"
     ]
    }
   ],
   "source": [
    "from plotly.offline import init_notebook_mode, iplot\n",
    "init_notebook_mode()\n",
    "%matplotlib inline\n",
    "%load_ext autoreload\n",
    "%autoreload 2\n",
    "\n",
    "import matplotlib.pyplot as plt"
   ]
  },
  {
   "cell_type": "markdown",
   "metadata": {},
   "source": [
    "## Init"
   ]
  },
  {
   "cell_type": "code",
   "execution_count": 5,
   "metadata": {
    "collapsed": true,
    "scrolled": false
   },
   "outputs": [],
   "source": [
    "# Define path to plots\n",
    "base_dir = 'D://VBox/data/itm_ecuador/visualization/'\n",
    "plots_dir = {2013 : base_dir+'Plots2013', 2014 : base_dir+'Plots2014'}\n",
    "\n",
    "# Load events manual classification \n",
    "ev_class = pd.read_csv('D://phd/data/labels.csv')"
   ]
  },
  {
   "cell_type": "markdown",
   "metadata": {},
   "source": [
    "### Load data"
   ]
  },
  {
   "cell_type": "code",
   "execution_count": null,
   "metadata": {
    "collapsed": true
   },
   "outputs": [],
   "source": [
    "data_file = 'D://phd/data/ie.h5'"
   ]
  },
  {
   "cell_type": "raw",
   "metadata": {},
   "source": [
    "# Load some test events\n",
    "condition = 'event_id > 100 and event_id < 200'\n",
    "print_time()\n",
    "ev, gr, de = load_data(data_file, condition)\n",
    "print_time()\n",
    "ev.merge(ev_class, how='left', left_on='event_id', right_on='ev_id').fillna('').valid_event.value_counts()"
   ]
  },
  {
   "cell_type": "raw",
   "metadata": {
    "scrolled": false
   },
   "source": [
    "# display a sample event\n",
    "display_event( plots_dir, 103, 2013 )"
   ]
  },
  {
   "cell_type": "markdown",
   "metadata": {},
   "source": [
    "# Descriptors calculation\n",
    "\n",
    "## Global descriptors\n",
    "\n",
    "| name      | description   |\n",
    "|:-:|:-:    |\n",
    "|year       | Year (2013-2014)|\n",
    "|doy        | Time of year (1-365)|\n",
    "|prn       | Satellite PRN|\n",
    "|hh         | Time of day (0. - 24.)|\n",
    "|min_grad   | Maximum gradient |\n",
    "|mean_grad   | Maximum gradient |\n",
    "|std_grad   | Maximum gradient |\n",
    "|n_stations       | Number of stations |\n",
    "|n_pairs    | Number of pairs |\n",
    "|el_deg         | Elevation in degrees |\n",
    "|gradient       | Maximum gradient |\n",
    "\n",
    "\n",
    "## Individual curve descriptors\n",
    "\n",
    "### Delay descriptors\n",
    "\n",
    "\n",
    "\n",
    "| name  | description  | normalization  |\n",
    "|:-:|:-:|:-:|\n",
    "|i_range| Maximum phase delay minus Minimum phase delay||\n",
    "|n_epochs|Number of epochs ||\n",
    "|roti_min|Min of scintillation index: a ROTI-like indicator (*) ||\n",
    "|roti_mean|Mean of scintillation index: a ROTI-like indicator||\n",
    "|roti_max|Max of scintillation index: a ROTI-like indicator||\n",
    "|roti_std|Std of scintillation index: a ROTI-like indicator||\n",
    "|n_outliers_ma|Number of outliers from Moving Average method||\n",
    "|n_outliers_pf|Number of outliers from Polynomial fit method||\n",
    "\n",
    "(*) Since iono_delay is proportional to TEC, we will \n",
    "use iono delay and obtain a ROTI-like index as (calculated over \n",
    "a rolling window):\n",
    "\n",
    "$$SROT = \\frac{\\Delta I_{delay}}{\\Delta t}$$\n",
    "\n",
    "$$SROTI = \\sqrt{<ROT^2> - <ROT>^2 }$$\n",
    "\n",
    "### First difference descriptors\n",
    "\n",
    "**diff**: for each station, array containing the difference between consecutive phase delay values station\n",
    "\n",
    "| name  | description  | normalization |\n",
    "|:-:|:-:|:-:|\n",
    "|diff_max| Max diff value during all the event ||\n",
    "|diff_std| Std diff value during all the event ||\n",
    "|diff_outliers| Number of points out of +/- n sigmas || \t \t \t \t \t \t \t \t \t \t"
   ]
  },
  {
   "cell_type": "code",
   "execution_count": 6,
   "metadata": {
    "collapsed": true
   },
   "outputs": [],
   "source": [
    "def roti_serie(y):\n",
    "    z  = np.mean(y*y)\n",
    "    z -= (np.mean(y))*(np.mean(y))\n",
    "    return np.sqrt( z )\n",
    "\n",
    "def roti_df(x, p):\n",
    "    # Definition of ROTI is:\n",
    "    #\n",
    "    # ROT = Delta(TEC) / Delta(t)\n",
    "    # ROTI = SQRT( <ROT^2> - <ROT>^2 )\n",
    "    #\n",
    "    # Since iono_delay is proportional to TEC, we will \n",
    "    # use iono delay and obtain a ROTI-like index\n",
    "    \n",
    "    x[['delta_t','delta_i']] = x[['tod','i_phase']].diff()\n",
    "    x = x[x['delta_t'] < p['max_dt']]\n",
    "    x['rot']  = x['delta_i'] / x['delta_t']\n",
    "    x['roti'] = 100*x['rot'].rolling( window = p['roti_win'] ).apply(roti_serie)\n",
    "    \n",
    "    return pd.Series([x['roti'].min(), x['roti'].mean(), x['roti'].max(), x['roti'].std()],\n",
    "                     index=['roti_min','roti_mean','roti_max','roti_std'])\n",
    "\n",
    "def outliers_moving_av(x, p):\n",
    "    x['diff']    = abs(x['i_phase'] - x['i_phase'].rolling(window=p['mov_av_win']).mean())\n",
    "    x['diff']    = x['diff'].fillna(20)\n",
    "    threshold  = x['i_phase'].std()*p['std_threshold']\n",
    "    n_outliers = len(x[ x['diff'] > threshold ])\n",
    "    return pd.Series([n_outliers], index=['n_outliers_ma'])\n",
    "\n",
    "def outliers_poly_fit(x, p):\n",
    "\n",
    "    polynomial = np.poly1d(np.polyfit( x['tod'], x['i_phase'], p['poly_fit_degree'] ))\n",
    "    x['diff']  = abs(x['i_phase'] - polynomial(x['tod']))\n",
    "    threshold  = x['i_phase'].std()*p['std_threshold']\n",
    "    n_outliers = len(x[x['diff']>threshold])\n",
    "    \n",
    "    return pd.Series([n_outliers], index=['n_outliers_pf'])\n",
    "\n",
    "def first_difference(x, p):\n",
    "    \n",
    "    x[['delta_t','delta_i']] = x[['tod','i_phase']].diff()\n",
    "    x = x[x['delta_t'] < p['max_dt']]\n",
    "    \n",
    "    outliers = len(x[abs(x['delta_i']-x['delta_i'].mean()) > p['diff_sigma']*abs(x['delta_i'].std())])\n",
    "    \n",
    "    return pd.Series([x['delta_i'].max(), x['delta_i'].std(), outliers],\n",
    "                     index=['diff_max','diff_std','diff_outliers'])\n",
    "\n",
    "def delay_desc(x, p):\n",
    "\n",
    "    i_range  = x['i_phase'].max() - x['i_phase'].min()\n",
    "    n_epochs = len(x)\n",
    "\n",
    "    desc = []\n",
    "    \n",
    "    desc.append(pd.Series([i_range, n_epochs], index=['i_range', 'n_epochs']))\n",
    "    desc.append(roti_df(x, p))\n",
    "    desc.append(outliers_moving_av(x,p))\n",
    "    desc.append(outliers_poly_fit(x,p))\n",
    "    desc.append(first_difference(x, p))\n",
    "    \n",
    "    return pd.concat(desc)"
   ]
  },
  {
   "cell_type": "markdown",
   "metadata": {},
   "source": [
    "## Process all events and store individual descriptors"
   ]
  },
  {
   "cell_type": "code",
   "execution_count": null,
   "metadata": {
    "collapsed": true
   },
   "outputs": [],
   "source": [
    "data_file = 'D://phd/data/ie.h5'\n",
    "desc_file = 'D://phd/data/desc_layer_1.h5'\n",
    "\n",
    "\n",
    "params = {'max_dt' : 30.*4,\n",
    "          'roti_win' : 10,\n",
    "          'mov_av_win' : 10,\n",
    "          'diff_threshold' : 3,\n",
    "          'diff_sigma' : 2,\n",
    "          'poly_fit_degree':4,\n",
    "          'std_threshold' : 1,\n",
    "         }\n",
    "    \n"
   ]
  },
  {
   "cell_type": "code",
   "execution_count": null,
   "metadata": {
    "collapsed": true
   },
   "outputs": [],
   "source": [
    "import warnings\n",
    "warnings.simplefilter('ignore')"
   ]
  },
  {
   "cell_type": "code",
   "execution_count": null,
   "metadata": {
    "collapsed": true,
    "scrolled": true
   },
   "outputs": [],
   "source": [
    "desc_db = HDFStore(desc_file)\n",
    "try:\n",
    "    desc_db.remove('station_desc')\n",
    "except:\n",
    "    print('No data in store')\n",
    "\n",
    "step=500\n",
    "year_size = {2013:7000, 2014:12000}\n",
    "\n",
    "for year in [2013,2014]:\n",
    "    for start in range(0,year_size[year],step):\n",
    "    \n",
    "        print_time()\n",
    "        print(year, start)\n",
    "        \n",
    "        condition  = 'year = '+str(year)\n",
    "        condition += ' and event_id >= '+str(start)\n",
    "        condition += ' and event_id <  '+str(start+step)\n",
    "        \n",
    "        _, _, y = load_data(data_file, condition)\n",
    "        \n",
    "        y = y[['event_id','year','tod','station','i_phase']]\n",
    "        y.sort_values(by=['event_id','year','tod','station','tod'], inplace=True)\n",
    "        y_desc = y.groupby(['event_id','year','station'], as_index=False).apply(delay_desc, params)\n",
    "        y_desc = y_desc.reset_index()\n",
    "        desc_db.append('station_desc', y_desc, \n",
    "                       index=False, data_columns = y_desc.columns)\n",
    "desc_db.close()"
   ]
  },
  {
   "cell_type": "markdown",
   "metadata": {},
   "source": [
    "### Aggregate descriptors"
   ]
  },
  {
   "cell_type": "code",
   "execution_count": 48,
   "metadata": {},
   "outputs": [
    {
     "name": "stdout",
     "output_type": "stream",
     "text": [
      "Data removed\n"
     ]
    }
   ],
   "source": [
    "# Load descriptors per station\n",
    "desc_file = 'D://phd/data/desc_layer_1.h5'\n",
    "desc_db = HDFStore(desc_file)\n",
    "d = desc_db.select('station_desc')\n",
    "d['n_epochs'] /= 1.5*60*2.\n",
    "\n",
    "# Load events general descriptors\n",
    "data_file = 'D://phd/data/ie.h5'\n",
    "data_db = HDFStore(data_file)\n",
    "events = data_db.select('events')\n",
    "events['doy'] /= 365.\n",
    "events['hh'] /= 24.\n",
    "\n",
    "# Aggregate individual curve descriptors\n",
    "d_group = d.groupby(['event_id','year'], as_index=False).agg([min,max,'mean','std'])\n",
    "d_group.columns = ['_'.join(col).strip() for col in d_group.columns.values]\n",
    "d_group.reset_index(inplace=True)\n",
    "\n",
    "# create a dataframe with general and curve agg features\n",
    "df = pd.merge(events, d_group, on=['event_id', 'year'])\n",
    "df.drop('label',axis=1,inplace=True)\n",
    "df.dropna(inplace=True)\n",
    "df = df[df.columns.difference( ['label','label_id'])]\n",
    "\n",
    "try:\n",
    "    desc_db.remove('event_desc')\n",
    "    print('Data removed')\n",
    "except:\n",
    "    print('No data in store')\n",
    "    \n",
    "desc_db.append('event_desc',\n",
    "               df, \n",
    "               index=False,\n",
    "               data_columns = df.columns)\n",
    "\n",
    "desc_db.close()"
   ]
  },
  {
   "cell_type": "markdown",
   "metadata": {},
   "source": [
    "## ToDo: Single delay curve Time series descriptors\n",
    "\n",
    "The time series descriptors are presented this way:\n",
    "\n",
    "**station -> time_slot -> descriptors**\n",
    "\n",
    "So, this is a cube of dimension n_stations x n_time_slots x n_features. For each station / time_slot, it is defined:\n",
    "\n",
    "| name  | description  | values  |\n",
    "|:-:|:-:|:-:|\n",
    "|d_kur| diff kurtosis during the time window||\n",
    "|d_max  | Maximum diff value during during the time window |   |\n",
    "|d_ske| diff skewness during the time window||\n",
    "|d_var| diff variance during the time window||\n",
    "|d_outliers| Number of diff points out of +/- 2*sigma* during the time window. *sigma* is calculated for all the event  ||\n",
    "| d_outliers_bin  | Binary for diff values out of +/- 2*sigma* during the time window. *sigma* is calculated for all the event   |   |\n",
    "|i_range| Maximum phase delay minus Minimum phase delay during the time window||\n",
    "| n| Number of epochs during the time window||\n",
    "| n_i_out_ma  | Number of outliers in phase delay with the moving average method |   |\n",
    "| n_i_out_pf  | Number of outliers in phase delay with the polyfit method   |   |\n",
    "| nr| Number of epochs / Max number of epochs for the event||\n",
    "| sroti  | Scintillation index: a ROTI-like indicator: get_sroti(data) |   |\n"
   ]
  },
  {
   "cell_type": "code",
   "execution_count": null,
   "metadata": {
    "collapsed": true
   },
   "outputs": [],
   "source": []
  }
 ],
 "metadata": {
  "kernelspec": {
   "display_name": "Python 2",
   "language": "python",
   "name": "python2"
  },
  "language_info": {
   "codemirror_mode": {
    "name": "ipython",
    "version": 2
   },
   "file_extension": ".py",
   "mimetype": "text/x-python",
   "name": "python",
   "nbconvert_exporter": "python",
   "pygments_lexer": "ipython2",
   "version": "2.7.13"
  }
 },
 "nbformat": 4,
 "nbformat_minor": 1
}
