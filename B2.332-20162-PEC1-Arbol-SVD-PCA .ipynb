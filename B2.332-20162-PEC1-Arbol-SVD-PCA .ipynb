{
 "cells": [
  {
   "cell_type": "markdown",
   "metadata": {
    "deletable": true,
    "editable": true
   },
   "source": [
    "<div style='float:left'>\n",
    "<img style=\"-webkit-user-select: none\" src=\"https://www.uoc.edu/portal/_resources/common/imatges/marca_UOC/marca_UOC_web.jpg\">\n",
    "<h1>\n",
    "Mejora de la calidad de un árbol<br> de decisión mediante <br> PCA y/o SVD\n",
    "</h1>\n",
    "</div>\n",
    "<div style='float:right'>\n",
    "<table align=\"right\">\n",
    "<tr>\n",
    "<th></th>\n",
    "<th>Master UOC en Inteligencia de Negocio</th>\n",
    "  </tr>\n",
    "  <tr>\n",
    "   <td>Asignatura</td>\n",
    "    <td>B2.332-M5  Modelos Avanzados de clasificación, relación y predicción</td>\n",
    "  </tr>\n",
    "  <tr>\n",
    "    <td>Consultor</td>\n",
    "    <td>Ramon Caihuelas</td>\n",
    "  </tr>\n",
    "   <tr>\n",
    "    <td>Estudiante</td>\n",
    "    <td>Nombre estudiante</td>\n",
    "  </tr>\n",
    "   <tr>\n",
    "    <td>Fecha entrega</td>\n",
    "    <td>01/04/2017</td>\n",
    "  </tr>\n",
    "</table>\n",
    "</div>\n",
    "<div style='clear:both'></div>\n",
    "\n"
   ]
  },
  {
   "cell_type": "markdown",
   "metadata": {
    "deletable": true,
    "editable": true
   },
   "source": [
    "## Introducción:"
   ]
  },
  {
   "cell_type": "markdown",
   "metadata": {
    "collapsed": false,
    "deletable": true,
    "editable": true
   },
   "source": [
    "En esta PEC el estudiante deberá, a partir de un conjunto de datos, analizar sus principales características mediante el uso de descriptores estadísticos y gráficos, reducir su dimensionalidad y extraer nuevas características mediante el uso de PCA y SVD que permitan mejorar la eficiencia de los árboles de decisión utilizados para resolver el problema propuesto.\n",
    "\n",
    "El juego de datos a trabajar es libre y a título de ejemplo proponemos el siguiente:\n",
    "[Machine Learning Repository: Cáncer de pecho](https://archive.ics.uci.edu/ml/machine-learning-databases/breast-cancer-wisconsin/breast-cancer-wisconsin.data)"
   ]
  },
  {
   "cell_type": "markdown",
   "metadata": {
    "deletable": true,
    "editable": true
   },
   "source": [
    "#### Entregable\n",
    "La práctica a entregar por parte del estudiante será este mismo documento con, los puntos del siguiente índice desarrollados:\n",
    "\n",
    "En todo el proceso es necesario indicar el objetivo de las acciones tomadas y explicar los resultados obtenidos, detallando los pasos efectuados para tal fin.\n",
    "\n",
    "Deberá quedar explícito que se ha trabajado y entendido el material didáctico y que sois capaces de realizar tareas de laboratorio de analítica de datos con los algoritmos estudiados, tomando las decisiones adecuadas en cada caso.\n",
    "\n",
    "Para guiaros en el proceso de elaboración de la PEC, veréis que algunos de los puntos ya contienen una propuesta de contenido, de modo que se espera que la completéis con vuestras aportaciones. \n",
    "\n",
    "La práctica en sí se divide en dos partes A y B:\n",
    "\n",
    "###### A. Completar el estudio de predicción de cáncer de pecho:\n",
    "     1. Carga de datos y tareas de preprocesado si es necesario. Alternativamente podeis escoger un set de datos siempre que tenga una dimensionalidad en registros y variables y se ajuste al objetivo de la PEC \n",
    "     2. Trabajar la calidad de los datos: limpieza, categorización, normalización, dimensionalidad...\n",
    "     3. Estudiar correlaciones y generar nuevas variables si es necesario.\n",
    "     4. Estudio visual de la información contenida en los datos (distribuciones, poner en relación variables...).\n",
    "     5. Elaboración de un primer modelo clasificador basado en árboles de decisión.\n",
    "     6. Extraer la calidad del modelo generado.\n",
    "     7. Interpretar la información obtenida del modelo generado: variables más relevantes, etc.\n",
    "     8. Mejorar el juego de datos mediante los algoritmos PCA y/o SVD estudiados en A1 si procede.\n",
    "     9. Construid árboles de decisión con la nuevas características y evaluar los resultados.\n",
    "     10. Conclusiones.\n",
    "     11. Fuentes consultadas.\n",
    "\n",
    "###### B. Repetir el estudio con un nuevo juego de datos:\n",
    "\n",
    "Con el objetivo de mejorar la operativa de los vuelos, se pide que elaboréis un modelo para predecir cuando un vuelo va a retrasarse. Con este modelo las aerolíneas podrán determinar cuando se producen algunos patrones que llevan a un vuelo a retrasarse.\n",
    "\n",
    "Aclarar que podéis eliminar variables y registros si consideráis que puede facilitar vuestro trabajo. Comentar también que en este caso hay que construir el campo clasificador en función de algún criterio que nos permita predecir el retraso de los vuelos. En este sentido se valorará la estrategia y el planteamiento que se haga.\n",
    "\n",
    "El juego de datos es: \n",
    "[Predicción en retrasos de vuelos](http://www.transtats.bts.gov/DL_SelectFields.asp?Table_ID=236&DB_Short_Name=On-Time)\n",
    "\n",
    "    \n",
    "\n"
   ]
  },
  {
   "cell_type": "markdown",
   "metadata": {
    "deletable": true,
    "editable": true
   },
   "source": [
    "# A. Estudio de predicción de cáncer de pecho\n",
    "\n",
    "## A.1. Carga de datos y pre-procesado"
   ]
  },
  {
   "cell_type": "markdown",
   "metadata": {
    "deletable": true,
    "editable": true
   },
   "source": [
    "### Instalar los packages necesarios en caso de no haberlo hecho anteriormente"
   ]
  },
  {
   "cell_type": "code",
   "execution_count": 46,
   "metadata": {
    "collapsed": false,
    "deletable": true,
    "editable": true
   },
   "outputs": [],
   "source": [
    "if(!require(car)){\n",
    "    install.packages('car',repos='http://cran.es.r-project.org')\n",
    "    require(car)\n",
    "}\n",
    "if(!require(C50)){\n",
    "    install.packages('C50',repos='http://cran.es.r-project.org')\n",
    "    require(C50)\n",
    "}\n",
    "if(!require(gmodels)){\n",
    "    install.packages('gmodels',repos='http://cran.es.r-project.org')\n",
    "    require(gmodels)\n",
    "}\n",
    "set.seed(606);"
   ]
  },
  {
   "cell_type": "markdown",
   "metadata": {
    "deletable": true,
    "editable": true
   },
   "source": [
    "### Leer el conjunto de datos original desde su URL en el repositorio UCI Machine Learning"
   ]
  },
  {
   "cell_type": "code",
   "execution_count": 47,
   "metadata": {
    "collapsed": false,
    "deletable": true,
    "editable": true
   },
   "outputs": [],
   "source": [
    "wdbc=read.table(\n",
    "    url(\"https://archive.ics.uci.edu/ml/machine-learning-databases/breast-cancer-wisconsin/breast-cancer-wisconsin.data\"), \n",
    "    sep=\",\", header=FALSE)"
   ]
  },
  {
   "cell_type": "markdown",
   "metadata": {
    "deletable": true,
    "editable": true
   },
   "source": [
    "### Obtener las dimensiones (N y d) del conjunto de datos"
   ]
  },
  {
   "cell_type": "code",
   "execution_count": 48,
   "metadata": {
    "collapsed": false,
    "deletable": true,
    "editable": true
   },
   "outputs": [
    {
     "data": {
      "text/html": [
       "<table>\n",
       "<thead><tr><th></th><th scope=col>V1</th><th scope=col>V2</th><th scope=col>V3</th><th scope=col>V4</th><th scope=col>V5</th><th scope=col>V6</th><th scope=col>V7</th><th scope=col>V8</th><th scope=col>V9</th><th scope=col>V10</th><th scope=col>V11</th></tr></thead>\n",
       "<tbody>\n",
       "\t<tr><th scope=row>1</th><td>1000025</td><td>5      </td><td>1      </td><td>1      </td><td>1      </td><td>2      </td><td>1      </td><td>3      </td><td>1      </td><td>1      </td><td>2      </td></tr>\n",
       "\t<tr><th scope=row>2</th><td>1002945</td><td>5      </td><td>4      </td><td>4      </td><td>5      </td><td>7      </td><td>10     </td><td>3      </td><td>2      </td><td>1      </td><td>2      </td></tr>\n",
       "\t<tr><th scope=row>3</th><td>1015425</td><td>3      </td><td>1      </td><td>1      </td><td>1      </td><td>2      </td><td>2      </td><td>3      </td><td>1      </td><td>1      </td><td>2      </td></tr>\n",
       "\t<tr><th scope=row>4</th><td>1016277</td><td>6      </td><td>8      </td><td>8      </td><td>1      </td><td>3      </td><td>4      </td><td>3      </td><td>7      </td><td>1      </td><td>2      </td></tr>\n",
       "\t<tr><th scope=row>5</th><td>1017023</td><td>4      </td><td>1      </td><td>1      </td><td>3      </td><td>2      </td><td>1      </td><td>3      </td><td>1      </td><td>1      </td><td>2      </td></tr>\n",
       "\t<tr><th scope=row>6</th><td>1017122</td><td>8      </td><td>10     </td><td>10     </td><td>8      </td><td>7      </td><td>10     </td><td>9      </td><td>7      </td><td>1      </td><td>4      </td></tr>\n",
       "</tbody>\n",
       "</table>\n"
      ],
      "text/latex": [
       "\\begin{tabular}{r|lllllllllll}\n",
       "  & V1 & V2 & V3 & V4 & V5 & V6 & V7 & V8 & V9 & V10 & V11\\\\\n",
       "\\hline\n",
       "\t1 & 1000025 & 5       & 1       & 1       & 1       & 2       & 1       & 3       & 1       & 1       & 2      \\\\\n",
       "\t2 & 1002945 & 5       & 4       & 4       & 5       & 7       & 10      & 3       & 2       & 1       & 2      \\\\\n",
       "\t3 & 1015425 & 3       & 1       & 1       & 1       & 2       & 2       & 3       & 1       & 1       & 2      \\\\\n",
       "\t4 & 1016277 & 6       & 8       & 8       & 1       & 3       & 4       & 3       & 7       & 1       & 2      \\\\\n",
       "\t5 & 1017023 & 4       & 1       & 1       & 3       & 2       & 1       & 3       & 1       & 1       & 2      \\\\\n",
       "\t6 & 1017122 & 8       & 10      & 10      & 8       & 7       & 10      & 9       & 7       & 1       & 4      \\\\\n",
       "\\end{tabular}\n"
      ],
      "text/plain": [
       "       V1 V2 V3 V4 V5 V6 V7 V8 V9 V10 V11\n",
       "1 1000025  5  1  1  1  2  1  3  1   1   2\n",
       "2 1002945  5  4  4  5  7 10  3  2   1   2\n",
       "3 1015425  3  1  1  1  2  2  3  1   1   2\n",
       "4 1016277  6  8  8  1  3  4  3  7   1   2\n",
       "5 1017023  4  1  1  3  2  1  3  1   1   2\n",
       "6 1017122  8 10 10  8  7 10  9  7   1   4"
      ]
     },
     "metadata": {},
     "output_type": "display_data"
    },
    {
     "data": {
      "text/html": [
       "<ol class=list-inline>\n",
       "\t<li>699</li>\n",
       "\t<li>11</li>\n",
       "</ol>\n"
      ],
      "text/latex": [
       "\\begin{enumerate*}\n",
       "\\item 699\n",
       "\\item 11\n",
       "\\end{enumerate*}\n"
      ],
      "text/markdown": [
       "1. 699\n",
       "2. 11\n",
       "\n",
       "\n"
      ],
      "text/plain": [
       "[1] 699  11"
      ]
     },
     "metadata": {},
     "output_type": "display_data"
    }
   ],
   "source": [
    "head(wdbc)\n",
    "dim(wdbc)"
   ]
  },
  {
   "cell_type": "markdown",
   "metadata": {
    "deletable": true,
    "editable": true
   },
   "source": [
    "\n",
    "## A.2. Trabajar la calidad de los datos\n",
    "\n",
    "### Recodificar los '?' por NA y quedarse solo con los registros completos"
   ]
  },
  {
   "cell_type": "code",
   "execution_count": 49,
   "metadata": {
    "collapsed": false,
    "deletable": true,
    "editable": true
   },
   "outputs": [
    {
     "data": {
      "text/html": [
       "<table>\n",
       "<thead><tr><th></th><th scope=col>V1</th><th scope=col>V2</th><th scope=col>V3</th><th scope=col>V4</th><th scope=col>V5</th><th scope=col>V6</th><th scope=col>V7</th><th scope=col>V8</th><th scope=col>V9</th><th scope=col>V10</th><th scope=col>V11</th></tr></thead>\n",
       "<tbody>\n",
       "\t<tr><th scope=row>1</th><td>1000025</td><td>      5</td><td>      1</td><td>      1</td><td>      1</td><td>      2</td><td>      1</td><td>      3</td><td>      1</td><td>      1</td><td>      2</td></tr>\n",
       "\t<tr><th scope=row>2</th><td>1002945</td><td>      5</td><td>      4</td><td>      4</td><td>      5</td><td>      7</td><td>      2</td><td>      3</td><td>      2</td><td>      1</td><td>      2</td></tr>\n",
       "\t<tr><th scope=row>3</th><td>1015425</td><td>      3</td><td>      1</td><td>      1</td><td>      1</td><td>      2</td><td>      3</td><td>      3</td><td>      1</td><td>      1</td><td>      2</td></tr>\n",
       "\t<tr><th scope=row>4</th><td>1016277</td><td>      6</td><td>      8</td><td>      8</td><td>      1</td><td>      3</td><td>      5</td><td>      3</td><td>      7</td><td>      1</td><td>      2</td></tr>\n",
       "\t<tr><th scope=row>5</th><td>1017023</td><td>      4</td><td>      1</td><td>      1</td><td>      3</td><td>      2</td><td>      1</td><td>      3</td><td>      1</td><td>      1</td><td>      2</td></tr>\n",
       "\t<tr><th scope=row>6</th><td>1017122</td><td>      8</td><td>     10</td><td>     10</td><td>      8</td><td>      7</td><td>      2</td><td>      9</td><td>      7</td><td>      1</td><td>      4</td></tr>\n",
       "</tbody>\n",
       "</table>\n"
      ],
      "text/latex": [
       "\\begin{tabular}{r|lllllllllll}\n",
       "  & V1 & V2 & V3 & V4 & V5 & V6 & V7 & V8 & V9 & V10 & V11\\\\\n",
       "\\hline\n",
       "\t1 & 1000025 &       5 &       1 &       1 &       1 &       2 &       1 &       3 &       1 &       1 &       2\\\\\n",
       "\t2 & 1002945 &       5 &       4 &       4 &       5 &       7 &       2 &       3 &       2 &       1 &       2\\\\\n",
       "\t3 & 1015425 &       3 &       1 &       1 &       1 &       2 &       3 &       3 &       1 &       1 &       2\\\\\n",
       "\t4 & 1016277 &       6 &       8 &       8 &       1 &       3 &       5 &       3 &       7 &       1 &       2\\\\\n",
       "\t5 & 1017023 &       4 &       1 &       1 &       3 &       2 &       1 &       3 &       1 &       1 &       2\\\\\n",
       "\t6 & 1017122 &       8 &      10 &      10 &       8 &       7 &       2 &       9 &       7 &       1 &       4\\\\\n",
       "\\end{tabular}\n"
      ],
      "text/plain": [
       "       V1 V2 V3 V4 V5 V6 V7 V8 V9 V10 V11\n",
       "1 1000025  5  1  1  1  2  1  3  1   1   2\n",
       "2 1002945  5  4  4  5  7  2  3  2   1   2\n",
       "3 1015425  3  1  1  1  2  3  3  1   1   2\n",
       "4 1016277  6  8  8  1  3  5  3  7   1   2\n",
       "5 1017023  4  1  1  3  2  1  3  1   1   2\n",
       "6 1017122  8 10 10  8  7  2  9  7   1   4"
      ]
     },
     "metadata": {},
     "output_type": "display_data"
    }
   ],
   "source": [
    "wdbc$V7=as.numeric(recode(wdbc$V7, \"'?'=NA\"))\n",
    "\n",
    "y=wdbc[complete.cases(wdbc),]\n",
    "\n",
    "head(y)"
   ]
  },
  {
   "cell_type": "markdown",
   "metadata": {
    "deletable": true,
    "editable": true
   },
   "source": [
    "Normalizamos el juego de datos para evitar que unas variables tengan más relevancia que otras, \n",
    "simplemente por el hecho de estar expresadas en magnitudes más grandes"
   ]
  },
  {
   "cell_type": "code",
   "execution_count": 50,
   "metadata": {
    "collapsed": false,
    "deletable": true,
    "editable": true
   },
   "outputs": [
    {
     "data": {
      "text/html": [
       "\"data.frame\""
      ],
      "text/latex": [
       "\"data.frame\""
      ],
      "text/markdown": [
       "\"data.frame\""
      ],
      "text/plain": [
       "[1] \"data.frame\""
      ]
     },
     "metadata": {},
     "output_type": "display_data"
    }
   ],
   "source": [
    "x <- as.data.frame(cbind(y[,1],scale(y[,2:11])))\n",
    "class(x)"
   ]
  },
  {
   "cell_type": "markdown",
   "metadata": {
    "deletable": true,
    "editable": true
   },
   "source": [
    "### Particionar el conjunto de entrada en dos (training y test set), según la regla del 2/3"
   ]
  },
  {
   "cell_type": "code",
   "execution_count": 51,
   "metadata": {
    "collapsed": false,
    "deletable": true,
    "editable": true
   },
   "outputs": [],
   "source": [
    "N=dim(x)[1]\n",
    "all=seq(1,N)\n",
    "\n",
    "# seleccionar 2/3 al azar\n",
    "\n",
    "train=sort(sample(N,N*2/3.0))\n",
    "test=setdiff(all,train)\n",
    "\n",
    "xtrain=x[train,]\n",
    "xtest=x[test,]"
   ]
  },
  {
   "cell_type": "code",
   "execution_count": 52,
   "metadata": {
    "collapsed": true,
    "deletable": true,
    "editable": true
   },
   "outputs": [],
   "source": [
    "### Revisar que haya una representación parecida variable clasificadora en el conjunto de entreno y test"
   ]
  },
  {
   "cell_type": "code",
   "execution_count": 53,
   "metadata": {
    "collapsed": false,
    "deletable": true,
    "editable": true
   },
   "outputs": [
    {
     "data": {
      "text/plain": [
       "\n",
       "-0.733144027377551   1.36199141487712 \n",
       "         0.6549451          0.3450549 "
      ]
     },
     "metadata": {},
     "output_type": "display_data"
    },
    {
     "data": {
      "text/plain": [
       "\n",
       "-0.733144027377551   1.36199141487712 \n",
       "         0.6403509          0.3596491 "
      ]
     },
     "metadata": {},
     "output_type": "display_data"
    }
   ],
   "source": [
    "prop.table(table(xtrain$V11))\n",
    "prop.table(table(xtest$V11))"
   ]
  },
  {
   "cell_type": "markdown",
   "metadata": {
    "deletable": true,
    "editable": true
   },
   "source": [
    "## A.3. Estudiar correlaciones y generar nuevas variables si es necesario"
   ]
  },
  {
   "cell_type": "markdown",
   "metadata": {
    "deletable": true,
    "editable": true
   },
   "source": [
    "## A.4. Estudio visual de la información"
   ]
  },
  {
   "cell_type": "markdown",
   "metadata": {
    "deletable": true,
    "editable": true
   },
   "source": [
    "## A.5. Elaboración de un primer modelo\n",
    "\n",
    "### Crear un primer árbol usando todos los parámetros por defecto y dibujarlo"
   ]
  },
  {
   "cell_type": "code",
   "execution_count": 54,
   "metadata": {
    "collapsed": false,
    "deletable": true,
    "editable": true
   },
   "outputs": [
    {
     "data": {
      "text/plain": [
       "\n",
       "Call:\n",
       "C5.0.default(x = xtrain[, c(2:10)], y = as.factor(xtrain$V11))\n",
       "\n",
       "Classification Tree\n",
       "Number of samples: 455 \n",
       "Number of predictors: 9 \n",
       "\n",
       "Tree size: 4 \n",
       "\n",
       "Non-standard options: attempt to group attributes\n"
      ]
     },
     "metadata": {},
     "output_type": "display_data"
    },
    {
     "data": {
      "text/plain": [
       "\n",
       "Call:\n",
       "C5.0.default(x = xtrain[, c(2:10)], y = as.factor(xtrain$V11))\n",
       "\n",
       "\n",
       "C5.0 [Release 2.07 GPL Edition]  \tThu Apr 06 22:06:07 2017\n",
       "-------------------------------\n",
       "\n",
       "Class specified by attribute `outcome'\n",
       "\n",
       "Read 455 cases (10 attributes) from undefined.data\n",
       "\n",
       "Decision tree:\n",
       "\n",
       "V3 <= -0.3754489: -0.733144027377551 (284/7)\n",
       "V3 > -0.3754489:\n",
       ":...V7 > -0.5655993: 1.36199141487712 (151/8)\n",
       "    V7 <= -0.5655993:\n",
       "    :...V3 <= 0.6032977: -0.733144027377551 (14/1)\n",
       "        V3 > 0.6032977: 1.36199141487712 (6)\n",
       "\n",
       "\n",
       "Evaluation on training data (455 cases):\n",
       "\n",
       "\t    Decision Tree   \n",
       "\t  ----------------  \n",
       "\t  Size      Errors  \n",
       "\n",
       "\t     4   16( 3.5%)   <<\n",
       "\n",
       "\n",
       "\t   (a)   (b)    <-classified as\n",
       "\t  ----  ----\n",
       "\t   290     8    (a): class -0.733144027377551\n",
       "\t     8   149    (b): class 1.36199141487712\n",
       "\n",
       "\n",
       "\tAttribute usage:\n",
       "\n",
       "\t100.00%\tV3\n",
       "\t 37.58%\tV7\n",
       "\n",
       "\n",
       "Time: 0.0 secs\n"
      ]
     },
     "metadata": {},
     "output_type": "display_data"
    },
    {
     "data": {
      "image/png": "[encoded data removed]",
      "text/plain": [
       "plot without title"
      ]
     },
     "metadata": {},
     "output_type": "display_data"
    }
   ],
   "source": [
    "model1 <- C50::C5.0(xtrain[,c(2:10)],as.factor(xtrain$V11))\n",
    "model1\n",
    "summary(model1)\n",
    "options(repr.plot.width=10, repr.plot.height=5)\n",
    "plot(model1)"
   ]
  },
  {
   "cell_type": "markdown",
   "metadata": {
    "deletable": true,
    "editable": true
   },
   "source": [
    "## A.6. Evaluar el árbol creado\n",
    "\n",
    "Evaluamos el árbol creado mediante la matriz de confusión para cada subconjunto"
   ]
  },
  {
   "cell_type": "code",
   "execution_count": 55,
   "metadata": {
    "collapsed": false,
    "deletable": true,
    "editable": true
   },
   "outputs": [
    {
     "name": "stdout",
     "output_type": "stream",
     "text": [
      "\n",
      " \n",
      "   Cell Contents\n",
      "|-------------------------|\n",
      "|                       N |\n",
      "|         N / Table Total |\n",
      "|-------------------------|\n",
      "\n",
      " \n",
      "Total Observations in Table:  228 \n",
      "\n",
      " \n",
      "                   | predicted V11 \n",
      "        actual V11 | -0.733144027377551 |   1.36199141487712 |          Row Total | \n",
      "-------------------|--------------------|--------------------|--------------------|\n",
      "-0.733144027377551 |                137 |                  9 |                146 | \n",
      "                   |              0.601 |              0.039 |                    | \n",
      "-------------------|--------------------|--------------------|--------------------|\n",
      "  1.36199141487712 |                  7 |                 75 |                 82 | \n",
      "                   |              0.031 |              0.329 |                    | \n",
      "-------------------|--------------------|--------------------|--------------------|\n",
      "      Column Total |                144 |                 84 |                228 | \n",
      "-------------------|--------------------|--------------------|--------------------|\n",
      "\n",
      " \n"
     ]
    }
   ],
   "source": [
    "V11_pred <- predict(model1, xtest)\n",
    "CrossTable(xtest$V11,V11_pred,prop.chisq=FALSE,prop.c=FALSE,prop.r=FALSE,dnn = c('actual V11','predicted V11'))"
   ]
  },
  {
   "cell_type": "markdown",
   "metadata": {
    "deletable": true,
    "editable": true
   },
   "source": [
    "## A.7. Interpretar la información obtenida del modelo\n",
    "\n",
    "El error del árbol es del 0,07. Solo 16 casos clasifican incorrectamente. Veamos si es mejorable con la técnica de SVD   "
   ]
  },
  {
   "cell_type": "markdown",
   "metadata": {
    "deletable": true,
    "editable": true
   },
   "source": [
    "## A.8. Mejorar el modelo generado aplicando SVD o PCA.\n",
    "\n",
    "Utilizamos SVD para extraer características"
   ]
  },
  {
   "cell_type": "code",
   "execution_count": 56,
   "metadata": {
    "collapsed": false,
    "deletable": true,
    "editable": true,
    "scrolled": false
   },
   "outputs": [],
   "source": [
    "TipoCancer <- xtrain[,11]\n",
    "VarCancer <- xtrain[,2:10]\n",
    "\n",
    "svdVarCancer <- svd(VarCancer)\n",
    "svdVarCancerT <- svd(xtest[,2:10])\n"
   ]
  },
  {
   "cell_type": "markdown",
   "metadata": {
    "deletable": true,
    "editable": true
   },
   "source": [
    "### Porcentaje de la varianza acumulada explicada "
   ]
  },
  {
   "cell_type": "code",
   "execution_count": 57,
   "metadata": {
    "collapsed": false,
    "deletable": true,
    "editable": true
   },
   "outputs": [
    {
     "data": {
      "image/png": "[encoded data removed]",
      "text/plain": [
       "plot without title"
      ]
     },
     "metadata": {},
     "output_type": "display_data"
    }
   ],
   "source": [
    "plot(cumsum(svdVarCancer$d^2/sum(svdVarCancer$d^2)),type=\"l\",col=\"red\",xlab=\"Singular vector\",ylab=\"Varianza explicada acumulada\")\n",
    "lines(cumsum(svdVarCancerT$d^2/sum(svdVarCancerT$d^2)),col=\"green\")\n",
    "\n"
   ]
  },
  {
   "cell_type": "markdown",
   "metadata": {
    "deletable": true,
    "editable": true
   },
   "source": [
    "### Añadir una nueva variable C1 a los datos usando el primer SVD que acumula el 32% de varianza"
   ]
  },
  {
   "cell_type": "code",
   "execution_count": 58,
   "metadata": {
    "collapsed": false,
    "deletable": true,
    "editable": true
   },
   "outputs": [],
   "source": [
    "xtrain$C1=svdVarCancer$u[,1]\n",
    "xtest$C1=svdVarCancerT$u[,1]"
   ]
  },
  {
   "cell_type": "markdown",
   "metadata": {
    "deletable": true,
    "editable": true
   },
   "source": [
    "## A.9. Construir un nuevo árbol con las nuevas características y evaluar los resultados\n",
    "\n",
    "Creamos un segundo árbol con la nueva variable usando todos los parámetros por defecto y dibujarlo"
   ]
  },
  {
   "cell_type": "code",
   "execution_count": 59,
   "metadata": {
    "collapsed": false,
    "deletable": true,
    "editable": true,
    "scrolled": true
   },
   "outputs": [
    {
     "data": {
      "text/plain": [
       "\n",
       "Call:\n",
       "C5.0.default(x = xtrain[, c(2:10, 12)], y = as.factor(xtrain$V11))\n",
       "\n",
       "Classification Tree\n",
       "Number of samples: 455 \n",
       "Number of predictors: 10 \n",
       "\n",
       "Tree size: 2 \n",
       "\n",
       "Non-standard options: attempt to group attributes\n"
      ]
     },
     "metadata": {},
     "output_type": "display_data"
    },
    {
     "data": {
      "text/plain": [
       "\n",
       "Call:\n",
       "C5.0.default(x = xtrain[, c(2:10, 12)], y = as.factor(xtrain$V11))\n",
       "\n",
       "\n",
       "C5.0 [Release 2.07 GPL Edition]  \tThu Apr 06 22:06:08 2017\n",
       "-------------------------------\n",
       "\n",
       "Class specified by attribute `outcome'\n",
       "\n",
       "Read 455 cases (11 attributes) from undefined.data\n",
       "\n",
       "Decision tree:\n",
       "\n",
       "C1 <= 0.004016426: 1.36199141487712 (164/8)\n",
       "C1 > 0.004016426: -0.733144027377551 (291/1)\n",
       "\n",
       "\n",
       "Evaluation on training data (455 cases):\n",
       "\n",
       "\t    Decision Tree   \n",
       "\t  ----------------  \n",
       "\t  Size      Errors  \n",
       "\n",
       "\t     2    9( 2.0%)   <<\n",
       "\n",
       "\n",
       "\t   (a)   (b)    <-classified as\n",
       "\t  ----  ----\n",
       "\t   290     8    (a): class -0.733144027377551\n",
       "\t     1   156    (b): class 1.36199141487712\n",
       "\n",
       "\n",
       "\tAttribute usage:\n",
       "\n",
       "\t100.00%\tC1\n",
       "\n",
       "\n",
       "Time: 0.0 secs\n"
      ]
     },
     "metadata": {},
     "output_type": "display_data"
    },
    {
     "data": {
      "image/png": "[encoded data removed]",
      "text/plain": [
       "plot without title"
      ]
     },
     "metadata": {},
     "output_type": "display_data"
    }
   ],
   "source": [
    "model2 <- C50::C5.0(xtrain[,c(2:10,12)],as.factor(xtrain$V11))\n",
    "model2\n",
    "summary(model2)\n",
    "options(repr.plot.width=4, repr.plot.height=3)\n",
    "plot(model2)"
   ]
  },
  {
   "cell_type": "markdown",
   "metadata": {
    "deletable": true,
    "editable": true
   },
   "source": [
    "\n",
    "Observar que para la creación el árbol solo se ha usado la variable que corresponde con el componente 1. El resto de variables se ha descartado."
   ]
  },
  {
   "cell_type": "markdown",
   "metadata": {
    "deletable": true,
    "editable": true
   },
   "source": [
    "### Evaluar el árbol creado mediante la matriz de confusión para cada subconjunto"
   ]
  },
  {
   "cell_type": "code",
   "execution_count": 60,
   "metadata": {
    "collapsed": false,
    "deletable": true,
    "editable": true,
    "scrolled": true
   },
   "outputs": [
    {
     "name": "stdout",
     "output_type": "stream",
     "text": [
      "\n",
      " \n",
      "   Cell Contents\n",
      "|-------------------------|\n",
      "|                       N |\n",
      "|         N / Table Total |\n",
      "|-------------------------|\n",
      "\n",
      " \n",
      "Total Observations in Table:  228 \n",
      "\n",
      " \n",
      "                   | predicted V11 \n",
      "        actual V11 | -0.733144027377551 |   1.36199141487712 |          Row Total | \n",
      "-------------------|--------------------|--------------------|--------------------|\n",
      "-0.733144027377551 |                139 |                  7 |                146 | \n",
      "                   |              0.610 |              0.031 |                    | \n",
      "-------------------|--------------------|--------------------|--------------------|\n",
      "  1.36199141487712 |                  0 |                 82 |                 82 | \n",
      "                   |              0.000 |              0.360 |                    | \n",
      "-------------------|--------------------|--------------------|--------------------|\n",
      "      Column Total |                139 |                 89 |                228 | \n",
      "-------------------|--------------------|--------------------|--------------------|\n",
      "\n",
      " \n"
     ]
    }
   ],
   "source": [
    "V11_pred <- predict(model2, xtest)\n",
    "CrossTable(xtest$V11,V11_pred,prop.chisq=FALSE,prop.c=FALSE,prop.r=FALSE,dnn = c('actual V11','predicted V11'))"
   ]
  },
  {
   "cell_type": "markdown",
   "metadata": {
    "deletable": true,
    "editable": true
   },
   "source": [
    "Tenemos una tasa del 0,03 de error en clasificación. Ha disminuido. Hemos logrado reducir las clasificaciones erróneas de tumor maligno a 0 reduciéndose la misma tasa de falsos positivos de 9 a 7."
   ]
  },
  {
   "cell_type": "markdown",
   "metadata": {
    "deletable": true,
    "editable": true
   },
   "source": [
    "## A.10. Conclusiones"
   ]
  },
  {
   "cell_type": "markdown",
   "metadata": {
    "deletable": true,
    "editable": true
   },
   "source": [
    "## A.11. Fuentes consultadas"
   ]
  },
  {
   "cell_type": "markdown",
   "metadata": {
    "deletable": true,
    "editable": true
   },
   "source": [
    "# B. Estudio para la predicción de retrasos en vuelos"
   ]
  }
 ],
 "metadata": {
  "anaconda-cloud": {},
  "kernelspec": {
   "display_name": "R",
   "language": "R",
   "name": "ir"
  },
  "language_info": {
   "codemirror_mode": "r",
   "file_extension": ".r",
   "mimetype": "text/x-r-source",
   "name": "R",
   "pygments_lexer": "r",
   "version": "3.3.2"
  }
 },
 "nbformat": 4,
 "nbformat_minor": 0
}
